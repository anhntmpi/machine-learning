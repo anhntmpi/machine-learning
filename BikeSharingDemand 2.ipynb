{
 "cells": [
  {
   "cell_type": "code",
   "execution_count": 106,
   "metadata": {
    "collapsed": true
   },
   "outputs": [],
   "source": [
    "import numpy as np\n",
    "import pandas as pd\n",
    "import matplotlib.pyplot as plt\n",
    "%matplotlib inline"
   ]
  },
  {
   "cell_type": "code",
   "execution_count": 107,
   "metadata": {
    "collapsed": false
   },
   "outputs": [
    {
     "data": {
      "text/html": [
       "<div>\n",
       "<table border=\"1\" class=\"dataframe\">\n",
       "  <thead>\n",
       "    <tr style=\"text-align: right;\">\n",
       "      <th></th>\n",
       "      <th>datetime</th>\n",
       "      <th>season</th>\n",
       "      <th>holiday</th>\n",
       "      <th>workingday</th>\n",
       "      <th>weather</th>\n",
       "      <th>temp</th>\n",
       "      <th>atemp</th>\n",
       "      <th>humidity</th>\n",
       "      <th>windspeed</th>\n",
       "      <th>casual</th>\n",
       "      <th>registered</th>\n",
       "      <th>count</th>\n",
       "    </tr>\n",
       "  </thead>\n",
       "  <tbody>\n",
       "    <tr>\n",
       "      <th>0</th>\n",
       "      <td>2011-01-01 00:00:00</td>\n",
       "      <td>1</td>\n",
       "      <td>0</td>\n",
       "      <td>0</td>\n",
       "      <td>1</td>\n",
       "      <td>9.84</td>\n",
       "      <td>14.395</td>\n",
       "      <td>81</td>\n",
       "      <td>0.0</td>\n",
       "      <td>3</td>\n",
       "      <td>13</td>\n",
       "      <td>16</td>\n",
       "    </tr>\n",
       "    <tr>\n",
       "      <th>1</th>\n",
       "      <td>2011-01-01 01:00:00</td>\n",
       "      <td>1</td>\n",
       "      <td>0</td>\n",
       "      <td>0</td>\n",
       "      <td>1</td>\n",
       "      <td>9.02</td>\n",
       "      <td>13.635</td>\n",
       "      <td>80</td>\n",
       "      <td>0.0</td>\n",
       "      <td>8</td>\n",
       "      <td>32</td>\n",
       "      <td>40</td>\n",
       "    </tr>\n",
       "    <tr>\n",
       "      <th>2</th>\n",
       "      <td>2011-01-01 02:00:00</td>\n",
       "      <td>1</td>\n",
       "      <td>0</td>\n",
       "      <td>0</td>\n",
       "      <td>1</td>\n",
       "      <td>9.02</td>\n",
       "      <td>13.635</td>\n",
       "      <td>80</td>\n",
       "      <td>0.0</td>\n",
       "      <td>5</td>\n",
       "      <td>27</td>\n",
       "      <td>32</td>\n",
       "    </tr>\n",
       "    <tr>\n",
       "      <th>3</th>\n",
       "      <td>2011-01-01 03:00:00</td>\n",
       "      <td>1</td>\n",
       "      <td>0</td>\n",
       "      <td>0</td>\n",
       "      <td>1</td>\n",
       "      <td>9.84</td>\n",
       "      <td>14.395</td>\n",
       "      <td>75</td>\n",
       "      <td>0.0</td>\n",
       "      <td>3</td>\n",
       "      <td>10</td>\n",
       "      <td>13</td>\n",
       "    </tr>\n",
       "    <tr>\n",
       "      <th>4</th>\n",
       "      <td>2011-01-01 04:00:00</td>\n",
       "      <td>1</td>\n",
       "      <td>0</td>\n",
       "      <td>0</td>\n",
       "      <td>1</td>\n",
       "      <td>9.84</td>\n",
       "      <td>14.395</td>\n",
       "      <td>75</td>\n",
       "      <td>0.0</td>\n",
       "      <td>0</td>\n",
       "      <td>1</td>\n",
       "      <td>1</td>\n",
       "    </tr>\n",
       "  </tbody>\n",
       "</table>\n",
       "</div>"
      ],
      "text/plain": [
       "              datetime  season  holiday  workingday  weather  temp   atemp  \\\n",
       "0  2011-01-01 00:00:00       1        0           0        1  9.84  14.395   \n",
       "1  2011-01-01 01:00:00       1        0           0        1  9.02  13.635   \n",
       "2  2011-01-01 02:00:00       1        0           0        1  9.02  13.635   \n",
       "3  2011-01-01 03:00:00       1        0           0        1  9.84  14.395   \n",
       "4  2011-01-01 04:00:00       1        0           0        1  9.84  14.395   \n",
       "\n",
       "   humidity  windspeed  casual  registered  count  \n",
       "0        81        0.0       3          13     16  \n",
       "1        80        0.0       8          32     40  \n",
       "2        80        0.0       5          27     32  \n",
       "3        75        0.0       3          10     13  \n",
       "4        75        0.0       0           1      1  "
      ]
     },
     "execution_count": 107,
     "metadata": {},
     "output_type": "execute_result"
    }
   ],
   "source": [
    "train = pd.read_csv('train.csv')\n",
    "test = pd.read_csv('test.csv')\n",
    "train.head()"
   ]
  },
  {
   "cell_type": "code",
   "execution_count": 108,
   "metadata": {
    "collapsed": false
   },
   "outputs": [
    {
     "data": {
      "text/html": [
       "<div>\n",
       "<table border=\"1\" class=\"dataframe\">\n",
       "  <thead>\n",
       "    <tr style=\"text-align: right;\">\n",
       "      <th></th>\n",
       "      <th>datetime</th>\n",
       "      <th>season</th>\n",
       "      <th>holiday</th>\n",
       "      <th>workingday</th>\n",
       "      <th>weather</th>\n",
       "      <th>temp</th>\n",
       "      <th>atemp</th>\n",
       "      <th>humidity</th>\n",
       "      <th>windspeed</th>\n",
       "    </tr>\n",
       "  </thead>\n",
       "  <tbody>\n",
       "    <tr>\n",
       "      <th>0</th>\n",
       "      <td>2011-01-20 00:00:00</td>\n",
       "      <td>1</td>\n",
       "      <td>0</td>\n",
       "      <td>1</td>\n",
       "      <td>1</td>\n",
       "      <td>10.66</td>\n",
       "      <td>11.365</td>\n",
       "      <td>56</td>\n",
       "      <td>26.0027</td>\n",
       "    </tr>\n",
       "    <tr>\n",
       "      <th>1</th>\n",
       "      <td>2011-01-20 01:00:00</td>\n",
       "      <td>1</td>\n",
       "      <td>0</td>\n",
       "      <td>1</td>\n",
       "      <td>1</td>\n",
       "      <td>10.66</td>\n",
       "      <td>13.635</td>\n",
       "      <td>56</td>\n",
       "      <td>0.0000</td>\n",
       "    </tr>\n",
       "    <tr>\n",
       "      <th>2</th>\n",
       "      <td>2011-01-20 02:00:00</td>\n",
       "      <td>1</td>\n",
       "      <td>0</td>\n",
       "      <td>1</td>\n",
       "      <td>1</td>\n",
       "      <td>10.66</td>\n",
       "      <td>13.635</td>\n",
       "      <td>56</td>\n",
       "      <td>0.0000</td>\n",
       "    </tr>\n",
       "    <tr>\n",
       "      <th>3</th>\n",
       "      <td>2011-01-20 03:00:00</td>\n",
       "      <td>1</td>\n",
       "      <td>0</td>\n",
       "      <td>1</td>\n",
       "      <td>1</td>\n",
       "      <td>10.66</td>\n",
       "      <td>12.880</td>\n",
       "      <td>56</td>\n",
       "      <td>11.0014</td>\n",
       "    </tr>\n",
       "    <tr>\n",
       "      <th>4</th>\n",
       "      <td>2011-01-20 04:00:00</td>\n",
       "      <td>1</td>\n",
       "      <td>0</td>\n",
       "      <td>1</td>\n",
       "      <td>1</td>\n",
       "      <td>10.66</td>\n",
       "      <td>12.880</td>\n",
       "      <td>56</td>\n",
       "      <td>11.0014</td>\n",
       "    </tr>\n",
       "  </tbody>\n",
       "</table>\n",
       "</div>"
      ],
      "text/plain": [
       "              datetime  season  holiday  workingday  weather   temp   atemp  \\\n",
       "0  2011-01-20 00:00:00       1        0           1        1  10.66  11.365   \n",
       "1  2011-01-20 01:00:00       1        0           1        1  10.66  13.635   \n",
       "2  2011-01-20 02:00:00       1        0           1        1  10.66  13.635   \n",
       "3  2011-01-20 03:00:00       1        0           1        1  10.66  12.880   \n",
       "4  2011-01-20 04:00:00       1        0           1        1  10.66  12.880   \n",
       "\n",
       "   humidity  windspeed  \n",
       "0        56    26.0027  \n",
       "1        56     0.0000  \n",
       "2        56     0.0000  \n",
       "3        56    11.0014  \n",
       "4        56    11.0014  "
      ]
     },
     "execution_count": 108,
     "metadata": {},
     "output_type": "execute_result"
    }
   ],
   "source": [
    "test.head()"
   ]
  },
  {
   "cell_type": "code",
   "execution_count": 109,
   "metadata": {
    "collapsed": false
   },
   "outputs": [
    {
     "data": {
      "text/html": [
       "<div>\n",
       "<table border=\"1\" class=\"dataframe\">\n",
       "  <thead>\n",
       "    <tr style=\"text-align: right;\">\n",
       "      <th></th>\n",
       "      <th>season</th>\n",
       "      <th>holiday</th>\n",
       "      <th>workingday</th>\n",
       "      <th>weather</th>\n",
       "      <th>temp</th>\n",
       "      <th>atemp</th>\n",
       "      <th>humidity</th>\n",
       "      <th>windspeed</th>\n",
       "      <th>casual</th>\n",
       "      <th>registered</th>\n",
       "      <th>count</th>\n",
       "    </tr>\n",
       "  </thead>\n",
       "  <tbody>\n",
       "    <tr>\n",
       "      <th>count</th>\n",
       "      <td>10886.000000</td>\n",
       "      <td>10886.000000</td>\n",
       "      <td>10886.000000</td>\n",
       "      <td>10886.000000</td>\n",
       "      <td>10886.00000</td>\n",
       "      <td>10886.000000</td>\n",
       "      <td>10886.000000</td>\n",
       "      <td>10886.000000</td>\n",
       "      <td>10886.000000</td>\n",
       "      <td>10886.000000</td>\n",
       "      <td>10886.000000</td>\n",
       "    </tr>\n",
       "    <tr>\n",
       "      <th>mean</th>\n",
       "      <td>2.506614</td>\n",
       "      <td>0.028569</td>\n",
       "      <td>0.680875</td>\n",
       "      <td>1.418427</td>\n",
       "      <td>20.23086</td>\n",
       "      <td>23.655084</td>\n",
       "      <td>61.886460</td>\n",
       "      <td>12.799395</td>\n",
       "      <td>36.021955</td>\n",
       "      <td>155.552177</td>\n",
       "      <td>191.574132</td>\n",
       "    </tr>\n",
       "    <tr>\n",
       "      <th>std</th>\n",
       "      <td>1.116174</td>\n",
       "      <td>0.166599</td>\n",
       "      <td>0.466159</td>\n",
       "      <td>0.633839</td>\n",
       "      <td>7.79159</td>\n",
       "      <td>8.474601</td>\n",
       "      <td>19.245033</td>\n",
       "      <td>8.164537</td>\n",
       "      <td>49.960477</td>\n",
       "      <td>151.039033</td>\n",
       "      <td>181.144454</td>\n",
       "    </tr>\n",
       "    <tr>\n",
       "      <th>min</th>\n",
       "      <td>1.000000</td>\n",
       "      <td>0.000000</td>\n",
       "      <td>0.000000</td>\n",
       "      <td>1.000000</td>\n",
       "      <td>0.82000</td>\n",
       "      <td>0.760000</td>\n",
       "      <td>0.000000</td>\n",
       "      <td>0.000000</td>\n",
       "      <td>0.000000</td>\n",
       "      <td>0.000000</td>\n",
       "      <td>1.000000</td>\n",
       "    </tr>\n",
       "    <tr>\n",
       "      <th>25%</th>\n",
       "      <td>2.000000</td>\n",
       "      <td>0.000000</td>\n",
       "      <td>0.000000</td>\n",
       "      <td>1.000000</td>\n",
       "      <td>13.94000</td>\n",
       "      <td>16.665000</td>\n",
       "      <td>47.000000</td>\n",
       "      <td>7.001500</td>\n",
       "      <td>4.000000</td>\n",
       "      <td>36.000000</td>\n",
       "      <td>42.000000</td>\n",
       "    </tr>\n",
       "    <tr>\n",
       "      <th>50%</th>\n",
       "      <td>3.000000</td>\n",
       "      <td>0.000000</td>\n",
       "      <td>1.000000</td>\n",
       "      <td>1.000000</td>\n",
       "      <td>20.50000</td>\n",
       "      <td>24.240000</td>\n",
       "      <td>62.000000</td>\n",
       "      <td>12.998000</td>\n",
       "      <td>17.000000</td>\n",
       "      <td>118.000000</td>\n",
       "      <td>145.000000</td>\n",
       "    </tr>\n",
       "    <tr>\n",
       "      <th>75%</th>\n",
       "      <td>4.000000</td>\n",
       "      <td>0.000000</td>\n",
       "      <td>1.000000</td>\n",
       "      <td>2.000000</td>\n",
       "      <td>26.24000</td>\n",
       "      <td>31.060000</td>\n",
       "      <td>77.000000</td>\n",
       "      <td>16.997900</td>\n",
       "      <td>49.000000</td>\n",
       "      <td>222.000000</td>\n",
       "      <td>284.000000</td>\n",
       "    </tr>\n",
       "    <tr>\n",
       "      <th>max</th>\n",
       "      <td>4.000000</td>\n",
       "      <td>1.000000</td>\n",
       "      <td>1.000000</td>\n",
       "      <td>4.000000</td>\n",
       "      <td>41.00000</td>\n",
       "      <td>45.455000</td>\n",
       "      <td>100.000000</td>\n",
       "      <td>56.996900</td>\n",
       "      <td>367.000000</td>\n",
       "      <td>886.000000</td>\n",
       "      <td>977.000000</td>\n",
       "    </tr>\n",
       "  </tbody>\n",
       "</table>\n",
       "</div>"
      ],
      "text/plain": [
       "             season       holiday    workingday       weather         temp  \\\n",
       "count  10886.000000  10886.000000  10886.000000  10886.000000  10886.00000   \n",
       "mean       2.506614      0.028569      0.680875      1.418427     20.23086   \n",
       "std        1.116174      0.166599      0.466159      0.633839      7.79159   \n",
       "min        1.000000      0.000000      0.000000      1.000000      0.82000   \n",
       "25%        2.000000      0.000000      0.000000      1.000000     13.94000   \n",
       "50%        3.000000      0.000000      1.000000      1.000000     20.50000   \n",
       "75%        4.000000      0.000000      1.000000      2.000000     26.24000   \n",
       "max        4.000000      1.000000      1.000000      4.000000     41.00000   \n",
       "\n",
       "              atemp      humidity     windspeed        casual    registered  \\\n",
       "count  10886.000000  10886.000000  10886.000000  10886.000000  10886.000000   \n",
       "mean      23.655084     61.886460     12.799395     36.021955    155.552177   \n",
       "std        8.474601     19.245033      8.164537     49.960477    151.039033   \n",
       "min        0.760000      0.000000      0.000000      0.000000      0.000000   \n",
       "25%       16.665000     47.000000      7.001500      4.000000     36.000000   \n",
       "50%       24.240000     62.000000     12.998000     17.000000    118.000000   \n",
       "75%       31.060000     77.000000     16.997900     49.000000    222.000000   \n",
       "max       45.455000    100.000000     56.996900    367.000000    886.000000   \n",
       "\n",
       "              count  \n",
       "count  10886.000000  \n",
       "mean     191.574132  \n",
       "std      181.144454  \n",
       "min        1.000000  \n",
       "25%       42.000000  \n",
       "50%      145.000000  \n",
       "75%      284.000000  \n",
       "max      977.000000  "
      ]
     },
     "execution_count": 109,
     "metadata": {},
     "output_type": "execute_result"
    }
   ],
   "source": [
    "train.describe()"
   ]
  },
  {
   "cell_type": "code",
   "execution_count": 110,
   "metadata": {
    "collapsed": false
   },
   "outputs": [
    {
     "name": "stdout",
     "output_type": "stream",
     "text": [
      "<class 'pandas.core.frame.DataFrame'>\n",
      "RangeIndex: 6493 entries, 0 to 6492\n",
      "Data columns (total 9 columns):\n",
      "datetime      6493 non-null object\n",
      "season        6493 non-null int64\n",
      "holiday       6493 non-null int64\n",
      "workingday    6493 non-null int64\n",
      "weather       6493 non-null int64\n",
      "temp          6493 non-null float64\n",
      "atemp         6493 non-null float64\n",
      "humidity      6493 non-null int64\n",
      "windspeed     6493 non-null float64\n",
      "dtypes: float64(3), int64(5), object(1)\n",
      "memory usage: 431.2+ KB\n"
     ]
    }
   ],
   "source": [
    "test.info()"
   ]
  },
  {
   "cell_type": "code",
   "execution_count": 111,
   "metadata": {
    "collapsed": false
   },
   "outputs": [
    {
     "data": {
      "text/html": [
       "<div>\n",
       "<table border=\"1\" class=\"dataframe\">\n",
       "  <thead>\n",
       "    <tr style=\"text-align: right;\">\n",
       "      <th></th>\n",
       "      <th>datetime</th>\n",
       "      <th>season</th>\n",
       "      <th>holiday</th>\n",
       "      <th>workingday</th>\n",
       "      <th>weather</th>\n",
       "      <th>temp</th>\n",
       "      <th>atemp</th>\n",
       "      <th>humidity</th>\n",
       "      <th>windspeed</th>\n",
       "    </tr>\n",
       "  </thead>\n",
       "  <tbody>\n",
       "    <tr>\n",
       "      <th>0</th>\n",
       "      <td>2011-01-01 00:00:00</td>\n",
       "      <td>1</td>\n",
       "      <td>0</td>\n",
       "      <td>0</td>\n",
       "      <td>1</td>\n",
       "      <td>9.84</td>\n",
       "      <td>14.395</td>\n",
       "      <td>81</td>\n",
       "      <td>0.0</td>\n",
       "    </tr>\n",
       "    <tr>\n",
       "      <th>1</th>\n",
       "      <td>2011-01-01 01:00:00</td>\n",
       "      <td>1</td>\n",
       "      <td>0</td>\n",
       "      <td>0</td>\n",
       "      <td>1</td>\n",
       "      <td>9.02</td>\n",
       "      <td>13.635</td>\n",
       "      <td>80</td>\n",
       "      <td>0.0</td>\n",
       "    </tr>\n",
       "  </tbody>\n",
       "</table>\n",
       "</div>"
      ],
      "text/plain": [
       "              datetime  season  holiday  workingday  weather  temp   atemp  \\\n",
       "0  2011-01-01 00:00:00       1        0           0        1  9.84  14.395   \n",
       "1  2011-01-01 01:00:00       1        0           0        1  9.02  13.635   \n",
       "\n",
       "   humidity  windspeed  \n",
       "0        81        0.0  \n",
       "1        80        0.0  "
      ]
     },
     "execution_count": 111,
     "metadata": {},
     "output_type": "execute_result"
    }
   ],
   "source": [
    "train_drop = train.drop(['casual','registered', 'count'], axis=1)\n",
    "train_drop.head(2)"
   ]
  },
  {
   "cell_type": "code",
   "execution_count": 112,
   "metadata": {
    "collapsed": false
   },
   "outputs": [
    {
     "data": {
      "text/plain": [
       "(17379, 9)"
      ]
     },
     "execution_count": 112,
     "metadata": {},
     "output_type": "execute_result"
    }
   ],
   "source": [
    "comb = pd.concat([train_drop, test])\n",
    "comb.shape"
   ]
  },
  {
   "cell_type": "code",
   "execution_count": 113,
   "metadata": {
    "collapsed": false
   },
   "outputs": [
    {
     "data": {
      "text/plain": [
       "<matplotlib.axes._subplots.AxesSubplot at 0x1d176990>"
      ]
     },
     "execution_count": 113,
     "metadata": {},
     "output_type": "execute_result"
    },
    {
     "data": {
      "image/png": "[encoded data removed]",
      "text/plain": [
       "<matplotlib.figure.Figure at 0xdbf22d0>"
      ]
     },
     "metadata": {},
     "output_type": "display_data"
    }
   ],
   "source": [
    "train['count'].hist()"
   ]
  },
  {
   "cell_type": "code",
   "execution_count": 114,
   "metadata": {
    "collapsed": false
   },
   "outputs": [
    {
     "data": {
      "text/plain": [
       "<matplotlib.axes._subplots.AxesSubplot at 0x10cb7af0>"
      ]
     },
     "execution_count": 114,
     "metadata": {},
     "output_type": "execute_result"
    },
    {
     "data": {
      "image/png": "[encoded data removed]",
      "text/plain": [
       "<matplotlib.figure.Figure at 0x19448f70>"
      ]
     },
     "metadata": {},
     "output_type": "display_data"
    }
   ],
   "source": [
    "np.log1p(train['count']).hist()"
   ]
  },
  {
   "cell_type": "code",
   "execution_count": 115,
   "metadata": {
    "collapsed": false
   },
   "outputs": [],
   "source": [
    "comb['datetime'] = pd.to_datetime(comb.datetime, format='%Y-%m-%d %H:%M:%S')"
   ]
  },
  {
   "cell_type": "code",
   "execution_count": 116,
   "metadata": {
    "collapsed": false
   },
   "outputs": [
    {
     "data": {
      "text/html": [
       "<div>\n",
       "<table border=\"1\" class=\"dataframe\">\n",
       "  <thead>\n",
       "    <tr style=\"text-align: right;\">\n",
       "      <th></th>\n",
       "      <th>datetime</th>\n",
       "      <th>season</th>\n",
       "      <th>holiday</th>\n",
       "      <th>workingday</th>\n",
       "      <th>weather</th>\n",
       "      <th>temp</th>\n",
       "      <th>atemp</th>\n",
       "      <th>humidity</th>\n",
       "      <th>windspeed</th>\n",
       "      <th>hour</th>\n",
       "    </tr>\n",
       "  </thead>\n",
       "  <tbody>\n",
       "    <tr>\n",
       "      <th>0</th>\n",
       "      <td>2011-01-01 00:00:00</td>\n",
       "      <td>1</td>\n",
       "      <td>0</td>\n",
       "      <td>0</td>\n",
       "      <td>1</td>\n",
       "      <td>9.84</td>\n",
       "      <td>14.395</td>\n",
       "      <td>81</td>\n",
       "      <td>0.0</td>\n",
       "      <td>0</td>\n",
       "    </tr>\n",
       "    <tr>\n",
       "      <th>1</th>\n",
       "      <td>2011-01-01 01:00:00</td>\n",
       "      <td>1</td>\n",
       "      <td>0</td>\n",
       "      <td>0</td>\n",
       "      <td>1</td>\n",
       "      <td>9.02</td>\n",
       "      <td>13.635</td>\n",
       "      <td>80</td>\n",
       "      <td>0.0</td>\n",
       "      <td>1</td>\n",
       "    </tr>\n",
       "    <tr>\n",
       "      <th>2</th>\n",
       "      <td>2011-01-01 02:00:00</td>\n",
       "      <td>1</td>\n",
       "      <td>0</td>\n",
       "      <td>0</td>\n",
       "      <td>1</td>\n",
       "      <td>9.02</td>\n",
       "      <td>13.635</td>\n",
       "      <td>80</td>\n",
       "      <td>0.0</td>\n",
       "      <td>2</td>\n",
       "    </tr>\n",
       "    <tr>\n",
       "      <th>3</th>\n",
       "      <td>2011-01-01 03:00:00</td>\n",
       "      <td>1</td>\n",
       "      <td>0</td>\n",
       "      <td>0</td>\n",
       "      <td>1</td>\n",
       "      <td>9.84</td>\n",
       "      <td>14.395</td>\n",
       "      <td>75</td>\n",
       "      <td>0.0</td>\n",
       "      <td>3</td>\n",
       "    </tr>\n",
       "    <tr>\n",
       "      <th>4</th>\n",
       "      <td>2011-01-01 04:00:00</td>\n",
       "      <td>1</td>\n",
       "      <td>0</td>\n",
       "      <td>0</td>\n",
       "      <td>1</td>\n",
       "      <td>9.84</td>\n",
       "      <td>14.395</td>\n",
       "      <td>75</td>\n",
       "      <td>0.0</td>\n",
       "      <td>4</td>\n",
       "    </tr>\n",
       "  </tbody>\n",
       "</table>\n",
       "</div>"
      ],
      "text/plain": [
       "             datetime  season  holiday  workingday  weather  temp   atemp  \\\n",
       "0 2011-01-01 00:00:00       1        0           0        1  9.84  14.395   \n",
       "1 2011-01-01 01:00:00       1        0           0        1  9.02  13.635   \n",
       "2 2011-01-01 02:00:00       1        0           0        1  9.02  13.635   \n",
       "3 2011-01-01 03:00:00       1        0           0        1  9.84  14.395   \n",
       "4 2011-01-01 04:00:00       1        0           0        1  9.84  14.395   \n",
       "\n",
       "   humidity  windspeed  hour  \n",
       "0        81        0.0     0  \n",
       "1        80        0.0     1  \n",
       "2        80        0.0     2  \n",
       "3        75        0.0     3  \n",
       "4        75        0.0     4  "
      ]
     },
     "execution_count": 116,
     "metadata": {},
     "output_type": "execute_result"
    }
   ],
   "source": [
    "comb['hour'] = comb.datetime.dt.hour\n",
    "comb.head()"
   ]
  },
  {
   "cell_type": "code",
   "execution_count": 117,
   "metadata": {
    "collapsed": false
   },
   "outputs": [
    {
     "data": {
      "text/html": [
       "<div>\n",
       "<table border=\"1\" class=\"dataframe\">\n",
       "  <thead>\n",
       "    <tr style=\"text-align: right;\">\n",
       "      <th></th>\n",
       "      <th>season</th>\n",
       "      <th>holiday</th>\n",
       "      <th>workingday</th>\n",
       "      <th>weather</th>\n",
       "      <th>temp</th>\n",
       "      <th>atemp</th>\n",
       "      <th>humidity</th>\n",
       "      <th>windspeed</th>\n",
       "      <th>hour</th>\n",
       "    </tr>\n",
       "  </thead>\n",
       "  <tbody>\n",
       "    <tr>\n",
       "      <th>count</th>\n",
       "      <td>17379.000000</td>\n",
       "      <td>17379.000000</td>\n",
       "      <td>17379.000000</td>\n",
       "      <td>17379.000000</td>\n",
       "      <td>17379.000000</td>\n",
       "      <td>17379.000000</td>\n",
       "      <td>17379.000000</td>\n",
       "      <td>17379.000000</td>\n",
       "      <td>17379.000000</td>\n",
       "    </tr>\n",
       "    <tr>\n",
       "      <th>mean</th>\n",
       "      <td>2.501640</td>\n",
       "      <td>0.028770</td>\n",
       "      <td>0.682721</td>\n",
       "      <td>1.425283</td>\n",
       "      <td>20.376474</td>\n",
       "      <td>23.788755</td>\n",
       "      <td>62.722884</td>\n",
       "      <td>12.736540</td>\n",
       "      <td>11.546752</td>\n",
       "    </tr>\n",
       "    <tr>\n",
       "      <th>std</th>\n",
       "      <td>1.106918</td>\n",
       "      <td>0.167165</td>\n",
       "      <td>0.465431</td>\n",
       "      <td>0.639357</td>\n",
       "      <td>7.894801</td>\n",
       "      <td>8.592511</td>\n",
       "      <td>19.292983</td>\n",
       "      <td>8.196795</td>\n",
       "      <td>6.914405</td>\n",
       "    </tr>\n",
       "    <tr>\n",
       "      <th>min</th>\n",
       "      <td>1.000000</td>\n",
       "      <td>0.000000</td>\n",
       "      <td>0.000000</td>\n",
       "      <td>1.000000</td>\n",
       "      <td>0.820000</td>\n",
       "      <td>0.000000</td>\n",
       "      <td>0.000000</td>\n",
       "      <td>0.000000</td>\n",
       "      <td>0.000000</td>\n",
       "    </tr>\n",
       "    <tr>\n",
       "      <th>25%</th>\n",
       "      <td>2.000000</td>\n",
       "      <td>0.000000</td>\n",
       "      <td>0.000000</td>\n",
       "      <td>1.000000</td>\n",
       "      <td>13.940000</td>\n",
       "      <td>16.665000</td>\n",
       "      <td>48.000000</td>\n",
       "      <td>7.001500</td>\n",
       "      <td>6.000000</td>\n",
       "    </tr>\n",
       "    <tr>\n",
       "      <th>50%</th>\n",
       "      <td>3.000000</td>\n",
       "      <td>0.000000</td>\n",
       "      <td>1.000000</td>\n",
       "      <td>1.000000</td>\n",
       "      <td>20.500000</td>\n",
       "      <td>24.240000</td>\n",
       "      <td>63.000000</td>\n",
       "      <td>12.998000</td>\n",
       "      <td>12.000000</td>\n",
       "    </tr>\n",
       "    <tr>\n",
       "      <th>75%</th>\n",
       "      <td>3.000000</td>\n",
       "      <td>0.000000</td>\n",
       "      <td>1.000000</td>\n",
       "      <td>2.000000</td>\n",
       "      <td>27.060000</td>\n",
       "      <td>31.060000</td>\n",
       "      <td>78.000000</td>\n",
       "      <td>16.997900</td>\n",
       "      <td>18.000000</td>\n",
       "    </tr>\n",
       "    <tr>\n",
       "      <th>max</th>\n",
       "      <td>4.000000</td>\n",
       "      <td>1.000000</td>\n",
       "      <td>1.000000</td>\n",
       "      <td>4.000000</td>\n",
       "      <td>41.000000</td>\n",
       "      <td>50.000000</td>\n",
       "      <td>100.000000</td>\n",
       "      <td>56.996900</td>\n",
       "      <td>23.000000</td>\n",
       "    </tr>\n",
       "  </tbody>\n",
       "</table>\n",
       "</div>"
      ],
      "text/plain": [
       "             season       holiday    workingday       weather          temp  \\\n",
       "count  17379.000000  17379.000000  17379.000000  17379.000000  17379.000000   \n",
       "mean       2.501640      0.028770      0.682721      1.425283     20.376474   \n",
       "std        1.106918      0.167165      0.465431      0.639357      7.894801   \n",
       "min        1.000000      0.000000      0.000000      1.000000      0.820000   \n",
       "25%        2.000000      0.000000      0.000000      1.000000     13.940000   \n",
       "50%        3.000000      0.000000      1.000000      1.000000     20.500000   \n",
       "75%        3.000000      0.000000      1.000000      2.000000     27.060000   \n",
       "max        4.000000      1.000000      1.000000      4.000000     41.000000   \n",
       "\n",
       "              atemp      humidity     windspeed          hour  \n",
       "count  17379.000000  17379.000000  17379.000000  17379.000000  \n",
       "mean      23.788755     62.722884     12.736540     11.546752  \n",
       "std        8.592511     19.292983      8.196795      6.914405  \n",
       "min        0.000000      0.000000      0.000000      0.000000  \n",
       "25%       16.665000     48.000000      7.001500      6.000000  \n",
       "50%       24.240000     63.000000     12.998000     12.000000  \n",
       "75%       31.060000     78.000000     16.997900     18.000000  \n",
       "max       50.000000    100.000000     56.996900     23.000000  "
      ]
     },
     "execution_count": 117,
     "metadata": {},
     "output_type": "execute_result"
    }
   ],
   "source": [
    "comb.describe()"
   ]
  },
  {
   "cell_type": "code",
   "execution_count": 118,
   "metadata": {
    "collapsed": false
   },
   "outputs": [
    {
     "data": {
      "text/plain": [
       "season         1.106918\n",
       "holiday        0.167165\n",
       "workingday     0.465431\n",
       "weather        0.639357\n",
       "temp           7.894801\n",
       "atemp          8.592511\n",
       "humidity      19.292983\n",
       "windspeed      8.196795\n",
       "hour           6.914405\n",
       "dtype: float64"
      ]
     },
     "execution_count": 118,
     "metadata": {},
     "output_type": "execute_result"
    }
   ],
   "source": [
    "comb.std()"
   ]
  },
  {
   "cell_type": "code",
   "execution_count": 119,
   "metadata": {
    "collapsed": false
   },
   "outputs": [
    {
     "data": {
      "text/plain": [
       "(['datetime',\n",
       "  'season',\n",
       "  'workingday',\n",
       "  'weather',\n",
       "  'temp',\n",
       "  'atemp',\n",
       "  'humidity',\n",
       "  'windspeed',\n",
       "  'hour'],\n",
       " ['holiday'])"
      ]
     },
     "execution_count": 119,
     "metadata": {},
     "output_type": "execute_result"
    }
   ],
   "source": [
    "thresh_std = 0.2\n",
    "r, c = comb.shape\n",
    "\n",
    "zero_list = []\n",
    "for i in range(1, c):\n",
    "    if(comb.iloc[:,i].std() < thresh_std):\n",
    "        zero_list.append(comb.columns[i])\n",
    "\n",
    "feature_cols = [col for col in comb.columns if col not in zero_list]\n",
    "feature_cols, zero_list"
   ]
  },
  {
   "cell_type": "code",
   "execution_count": 120,
   "metadata": {
    "collapsed": false
   },
   "outputs": [
    {
     "data": {
      "text/html": [
       "<div>\n",
       "<table border=\"1\" class=\"dataframe\">\n",
       "  <thead>\n",
       "    <tr style=\"text-align: right;\">\n",
       "      <th></th>\n",
       "      <th>season</th>\n",
       "      <th>holiday</th>\n",
       "      <th>workingday</th>\n",
       "      <th>weather</th>\n",
       "      <th>temp</th>\n",
       "      <th>atemp</th>\n",
       "      <th>humidity</th>\n",
       "      <th>windspeed</th>\n",
       "      <th>hour</th>\n",
       "    </tr>\n",
       "  </thead>\n",
       "  <tbody>\n",
       "    <tr>\n",
       "      <th>season</th>\n",
       "      <td>1.000000</td>\n",
       "      <td>-0.009585</td>\n",
       "      <td>0.013743</td>\n",
       "      <td>-0.014524</td>\n",
       "      <td>0.312025</td>\n",
       "      <td>0.319380</td>\n",
       "      <td>0.150625</td>\n",
       "      <td>-0.149773</td>\n",
       "      <td>-0.006117</td>\n",
       "    </tr>\n",
       "    <tr>\n",
       "      <th>holiday</th>\n",
       "      <td>-0.009585</td>\n",
       "      <td>1.000000</td>\n",
       "      <td>-0.252471</td>\n",
       "      <td>-0.017036</td>\n",
       "      <td>-0.027340</td>\n",
       "      <td>-0.030973</td>\n",
       "      <td>-0.010588</td>\n",
       "      <td>0.003988</td>\n",
       "      <td>0.000479</td>\n",
       "    </tr>\n",
       "    <tr>\n",
       "      <th>workingday</th>\n",
       "      <td>0.013743</td>\n",
       "      <td>-0.252471</td>\n",
       "      <td>1.000000</td>\n",
       "      <td>0.044672</td>\n",
       "      <td>0.055390</td>\n",
       "      <td>0.054667</td>\n",
       "      <td>0.015688</td>\n",
       "      <td>-0.011830</td>\n",
       "      <td>0.002285</td>\n",
       "    </tr>\n",
       "    <tr>\n",
       "      <th>weather</th>\n",
       "      <td>-0.014524</td>\n",
       "      <td>-0.017036</td>\n",
       "      <td>0.044672</td>\n",
       "      <td>1.000000</td>\n",
       "      <td>-0.102640</td>\n",
       "      <td>-0.105563</td>\n",
       "      <td>0.418130</td>\n",
       "      <td>0.026226</td>\n",
       "      <td>-0.020203</td>\n",
       "    </tr>\n",
       "    <tr>\n",
       "      <th>temp</th>\n",
       "      <td>0.312025</td>\n",
       "      <td>-0.027340</td>\n",
       "      <td>0.055390</td>\n",
       "      <td>-0.102640</td>\n",
       "      <td>1.000000</td>\n",
       "      <td>0.987672</td>\n",
       "      <td>-0.069881</td>\n",
       "      <td>-0.023125</td>\n",
       "      <td>0.137603</td>\n",
       "    </tr>\n",
       "    <tr>\n",
       "      <th>atemp</th>\n",
       "      <td>0.319380</td>\n",
       "      <td>-0.030973</td>\n",
       "      <td>0.054667</td>\n",
       "      <td>-0.105563</td>\n",
       "      <td>0.987672</td>\n",
       "      <td>1.000000</td>\n",
       "      <td>-0.051918</td>\n",
       "      <td>-0.062336</td>\n",
       "      <td>0.133750</td>\n",
       "    </tr>\n",
       "    <tr>\n",
       "      <th>humidity</th>\n",
       "      <td>0.150625</td>\n",
       "      <td>-0.010588</td>\n",
       "      <td>0.015688</td>\n",
       "      <td>0.418130</td>\n",
       "      <td>-0.069881</td>\n",
       "      <td>-0.051918</td>\n",
       "      <td>1.000000</td>\n",
       "      <td>-0.290105</td>\n",
       "      <td>-0.276498</td>\n",
       "    </tr>\n",
       "    <tr>\n",
       "      <th>windspeed</th>\n",
       "      <td>-0.149773</td>\n",
       "      <td>0.003988</td>\n",
       "      <td>-0.011830</td>\n",
       "      <td>0.026226</td>\n",
       "      <td>-0.023125</td>\n",
       "      <td>-0.062336</td>\n",
       "      <td>-0.290105</td>\n",
       "      <td>1.000000</td>\n",
       "      <td>0.137252</td>\n",
       "    </tr>\n",
       "    <tr>\n",
       "      <th>hour</th>\n",
       "      <td>-0.006117</td>\n",
       "      <td>0.000479</td>\n",
       "      <td>0.002285</td>\n",
       "      <td>-0.020203</td>\n",
       "      <td>0.137603</td>\n",
       "      <td>0.133750</td>\n",
       "      <td>-0.276498</td>\n",
       "      <td>0.137252</td>\n",
       "      <td>1.000000</td>\n",
       "    </tr>\n",
       "  </tbody>\n",
       "</table>\n",
       "</div>"
      ],
      "text/plain": [
       "              season   holiday  workingday   weather      temp     atemp  \\\n",
       "season      1.000000 -0.009585    0.013743 -0.014524  0.312025  0.319380   \n",
       "holiday    -0.009585  1.000000   -0.252471 -0.017036 -0.027340 -0.030973   \n",
       "workingday  0.013743 -0.252471    1.000000  0.044672  0.055390  0.054667   \n",
       "weather    -0.014524 -0.017036    0.044672  1.000000 -0.102640 -0.105563   \n",
       "temp        0.312025 -0.027340    0.055390 -0.102640  1.000000  0.987672   \n",
       "atemp       0.319380 -0.030973    0.054667 -0.105563  0.987672  1.000000   \n",
       "humidity    0.150625 -0.010588    0.015688  0.418130 -0.069881 -0.051918   \n",
       "windspeed  -0.149773  0.003988   -0.011830  0.026226 -0.023125 -0.062336   \n",
       "hour       -0.006117  0.000479    0.002285 -0.020203  0.137603  0.133750   \n",
       "\n",
       "            humidity  windspeed      hour  \n",
       "season      0.150625  -0.149773 -0.006117  \n",
       "holiday    -0.010588   0.003988  0.000479  \n",
       "workingday  0.015688  -0.011830  0.002285  \n",
       "weather     0.418130   0.026226 -0.020203  \n",
       "temp       -0.069881  -0.023125  0.137603  \n",
       "atemp      -0.051918  -0.062336  0.133750  \n",
       "humidity    1.000000  -0.290105 -0.276498  \n",
       "windspeed  -0.290105   1.000000  0.137252  \n",
       "hour       -0.276498   0.137252  1.000000  "
      ]
     },
     "execution_count": 120,
     "metadata": {},
     "output_type": "execute_result"
    }
   ],
   "source": [
    "comb.corr()"
   ]
  },
  {
   "cell_type": "code",
   "execution_count": 121,
   "metadata": {
    "collapsed": false
   },
   "outputs": [
    {
     "data": {
      "text/plain": [
       "<matplotlib.axes._subplots.AxesSubplot at 0x1afb5310>"
      ]
     },
     "execution_count": 121,
     "metadata": {},
     "output_type": "execute_result"
    },
    {
     "data": {
      "image/png": "[encoded data removed]",
      "text/plain": [
       "<matplotlib.figure.Figure at 0x1afb5a90>"
      ]
     },
     "metadata": {},
     "output_type": "display_data"
    }
   ],
   "source": [
    "#plt.matshow(comb.corr())\n",
    "import seaborn as sns\n",
    "corr = comb[feature_cols].corr()\n",
    "sns.heatmap(corr, \n",
    "            xticklabels=corr.columns.values,\n",
    "            yticklabels=corr.columns.values, annot=True)"
   ]
  },
  {
   "cell_type": "code",
   "execution_count": 122,
   "metadata": {
    "collapsed": false
   },
   "outputs": [],
   "source": [
    "# As we can see headmap, 'temp' and 'atemp' are highly correlated. 'atemp' should be removed\n",
    "comb_final = comb[feature_cols].drop(['datetime', 'atemp'], 1)"
   ]
  },
  {
   "cell_type": "code",
   "execution_count": 123,
   "metadata": {
    "collapsed": false
   },
   "outputs": [
    {
     "data": {
      "text/html": [
       "<div>\n",
       "<table border=\"1\" class=\"dataframe\">\n",
       "  <thead>\n",
       "    <tr style=\"text-align: right;\">\n",
       "      <th></th>\n",
       "      <th>season</th>\n",
       "      <th>workingday</th>\n",
       "      <th>weather</th>\n",
       "      <th>temp</th>\n",
       "      <th>humidity</th>\n",
       "      <th>windspeed</th>\n",
       "      <th>hour</th>\n",
       "    </tr>\n",
       "  </thead>\n",
       "  <tbody>\n",
       "    <tr>\n",
       "      <th>0</th>\n",
       "      <td>1</td>\n",
       "      <td>0</td>\n",
       "      <td>1</td>\n",
       "      <td>9.84</td>\n",
       "      <td>81</td>\n",
       "      <td>0.0</td>\n",
       "      <td>0</td>\n",
       "    </tr>\n",
       "    <tr>\n",
       "      <th>1</th>\n",
       "      <td>1</td>\n",
       "      <td>0</td>\n",
       "      <td>1</td>\n",
       "      <td>9.02</td>\n",
       "      <td>80</td>\n",
       "      <td>0.0</td>\n",
       "      <td>1</td>\n",
       "    </tr>\n",
       "    <tr>\n",
       "      <th>2</th>\n",
       "      <td>1</td>\n",
       "      <td>0</td>\n",
       "      <td>1</td>\n",
       "      <td>9.02</td>\n",
       "      <td>80</td>\n",
       "      <td>0.0</td>\n",
       "      <td>2</td>\n",
       "    </tr>\n",
       "    <tr>\n",
       "      <th>3</th>\n",
       "      <td>1</td>\n",
       "      <td>0</td>\n",
       "      <td>1</td>\n",
       "      <td>9.84</td>\n",
       "      <td>75</td>\n",
       "      <td>0.0</td>\n",
       "      <td>3</td>\n",
       "    </tr>\n",
       "    <tr>\n",
       "      <th>4</th>\n",
       "      <td>1</td>\n",
       "      <td>0</td>\n",
       "      <td>1</td>\n",
       "      <td>9.84</td>\n",
       "      <td>75</td>\n",
       "      <td>0.0</td>\n",
       "      <td>4</td>\n",
       "    </tr>\n",
       "  </tbody>\n",
       "</table>\n",
       "</div>"
      ],
      "text/plain": [
       "   season  workingday  weather  temp  humidity  windspeed  hour\n",
       "0       1           0        1  9.84        81        0.0     0\n",
       "1       1           0        1  9.02        80        0.0     1\n",
       "2       1           0        1  9.02        80        0.0     2\n",
       "3       1           0        1  9.84        75        0.0     3\n",
       "4       1           0        1  9.84        75        0.0     4"
      ]
     },
     "execution_count": 123,
     "metadata": {},
     "output_type": "execute_result"
    }
   ],
   "source": [
    "comb_final.head()"
   ]
  },
  {
   "cell_type": "code",
   "execution_count": 124,
   "metadata": {
    "collapsed": false
   },
   "outputs": [
    {
     "data": {
      "text/plain": [
       "((10886, 7), (6493, 7), (10886,))"
      ]
     },
     "execution_count": 124,
     "metadata": {},
     "output_type": "execute_result"
    }
   ],
   "source": [
    "x_train = comb_final.iloc[:train.shape[0], :]\n",
    "x_test = comb_final.iloc[train.shape[0]:, :]\n",
    "y_train = train.loc[:,'count']\n",
    "(x_train.shape, x_test.shape, y_train.shape)"
   ]
  },
  {
   "cell_type": "code",
   "execution_count": 125,
   "metadata": {
    "collapsed": false
   },
   "outputs": [
    {
     "data": {
      "text/plain": [
       "count    10886.000000\n",
       "mean       191.574132\n",
       "std        181.144454\n",
       "min          1.000000\n",
       "25%         42.000000\n",
       "50%        145.000000\n",
       "75%        284.000000\n",
       "max        977.000000\n",
       "Name: count, dtype: float64"
      ]
     },
     "execution_count": 125,
     "metadata": {},
     "output_type": "execute_result"
    }
   ],
   "source": [
    "y_train.describe()"
   ]
  },
  {
   "cell_type": "code",
   "execution_count": 126,
   "metadata": {
    "collapsed": false
   },
   "outputs": [
    {
     "data": {
      "text/html": [
       "<div>\n",
       "<table border=\"1\" class=\"dataframe\">\n",
       "  <thead>\n",
       "    <tr style=\"text-align: right;\">\n",
       "      <th></th>\n",
       "      <th>season</th>\n",
       "      <th>workingday</th>\n",
       "      <th>weather</th>\n",
       "      <th>temp</th>\n",
       "      <th>humidity</th>\n",
       "      <th>windspeed</th>\n",
       "      <th>hour</th>\n",
       "      <th>count</th>\n",
       "    </tr>\n",
       "  </thead>\n",
       "  <tbody>\n",
       "    <tr>\n",
       "      <th>0</th>\n",
       "      <td>1</td>\n",
       "      <td>0</td>\n",
       "      <td>1</td>\n",
       "      <td>9.84</td>\n",
       "      <td>81</td>\n",
       "      <td>0.0</td>\n",
       "      <td>0</td>\n",
       "      <td>16</td>\n",
       "    </tr>\n",
       "    <tr>\n",
       "      <th>1</th>\n",
       "      <td>1</td>\n",
       "      <td>0</td>\n",
       "      <td>1</td>\n",
       "      <td>9.02</td>\n",
       "      <td>80</td>\n",
       "      <td>0.0</td>\n",
       "      <td>1</td>\n",
       "      <td>40</td>\n",
       "    </tr>\n",
       "    <tr>\n",
       "      <th>2</th>\n",
       "      <td>1</td>\n",
       "      <td>0</td>\n",
       "      <td>1</td>\n",
       "      <td>9.02</td>\n",
       "      <td>80</td>\n",
       "      <td>0.0</td>\n",
       "      <td>2</td>\n",
       "      <td>32</td>\n",
       "    </tr>\n",
       "    <tr>\n",
       "      <th>3</th>\n",
       "      <td>1</td>\n",
       "      <td>0</td>\n",
       "      <td>1</td>\n",
       "      <td>9.84</td>\n",
       "      <td>75</td>\n",
       "      <td>0.0</td>\n",
       "      <td>3</td>\n",
       "      <td>13</td>\n",
       "    </tr>\n",
       "    <tr>\n",
       "      <th>4</th>\n",
       "      <td>1</td>\n",
       "      <td>0</td>\n",
       "      <td>1</td>\n",
       "      <td>9.84</td>\n",
       "      <td>75</td>\n",
       "      <td>0.0</td>\n",
       "      <td>4</td>\n",
       "      <td>1</td>\n",
       "    </tr>\n",
       "  </tbody>\n",
       "</table>\n",
       "</div>"
      ],
      "text/plain": [
       "   season  workingday  weather  temp  humidity  windspeed  hour  count\n",
       "0       1           0        1  9.84        81        0.0     0     16\n",
       "1       1           0        1  9.02        80        0.0     1     40\n",
       "2       1           0        1  9.02        80        0.0     2     32\n",
       "3       1           0        1  9.84        75        0.0     3     13\n",
       "4       1           0        1  9.84        75        0.0     4      1"
      ]
     },
     "execution_count": 126,
     "metadata": {},
     "output_type": "execute_result"
    }
   ],
   "source": [
    "train_final = pd.concat([x_train, y_train], 1)\n",
    "train_final.head()"
   ]
  },
  {
   "cell_type": "code",
   "execution_count": 127,
   "metadata": {
    "collapsed": false
   },
   "outputs": [],
   "source": [
    "def boxplot_count(feature):\n",
    "    sns.boxplot(x = train_final[feature], y= train_final['count'])"
   ]
  },
  {
   "cell_type": "code",
   "execution_count": null,
   "metadata": {
    "collapsed": false
   },
   "outputs": [],
   "source": []
  },
  {
   "cell_type": "code",
   "execution_count": 128,
   "metadata": {
    "collapsed": false
   },
   "outputs": [
    {
     "data": {
      "image/png": "[encoded data removed]",
      "text/plain": [
       "<matplotlib.figure.Figure at 0x18b45d10>"
      ]
     },
     "metadata": {},
     "output_type": "display_data"
    }
   ],
   "source": [
    "boxplot_count('hour')"
   ]
  },
  {
   "cell_type": "code",
   "execution_count": 129,
   "metadata": {
    "collapsed": false
   },
   "outputs": [
    {
     "data": {
      "image/png": "[encoded data removed]",
      "text/plain": [
       "<matplotlib.figure.Figure at 0xe262cd0>"
      ]
     },
     "metadata": {},
     "output_type": "display_data"
    }
   ],
   "source": [
    "boxplot_count('workingday')"
   ]
  },
  {
   "cell_type": "code",
   "execution_count": 130,
   "metadata": {
    "collapsed": false
   },
   "outputs": [
    {
     "data": {
      "image/png": "[encoded data removed]",
      "text/plain": [
       "<matplotlib.figure.Figure at 0xa3a06d0>"
      ]
     },
     "metadata": {},
     "output_type": "display_data"
    }
   ],
   "source": [
    "boxplot_count('weather')"
   ]
  },
  {
   "cell_type": "code",
   "execution_count": 131,
   "metadata": {
    "collapsed": false
   },
   "outputs": [
    {
     "data": {
      "image/png": "[encoded data removed]",
      "text/plain": [
       "<matplotlib.figure.Figure at 0x1a1664b0>"
      ]
     },
     "metadata": {},
     "output_type": "display_data"
    }
   ],
   "source": [
    "boxplot_count('temp')"
   ]
  },
  {
   "cell_type": "code",
   "execution_count": 132,
   "metadata": {
    "collapsed": false
   },
   "outputs": [
    {
     "data": {
      "image/png": "[encoded data removed]",
      "text/plain": [
       "<matplotlib.figure.Figure at 0x1e4a5030>"
      ]
     },
     "metadata": {},
     "output_type": "display_data"
    }
   ],
   "source": [
    "boxplot_count('humidity')"
   ]
  },
  {
   "cell_type": "code",
   "execution_count": 133,
   "metadata": {
    "collapsed": true
   },
   "outputs": [],
   "source": [
    "from sklearn import tree\n",
    "from sklearn.cross_validation import KFold\n",
    "from sklearn.cross_validation import train_test_split\n",
    "from sklearn.metrics import accuracy_score\n",
    "from sklearn.tree import DecisionTreeRegressor"
   ]
  },
  {
   "cell_type": "code",
   "execution_count": 134,
   "metadata": {
    "collapsed": true
   },
   "outputs": [],
   "source": [
    "def apply_model(model, data, predictors, outcome):\n",
    "    kf = KFold(data[outcome].shape[0], n_folds=10)\n",
    "    \n",
    "    scores = []\n",
    "    \n",
    "    for train, val in kf:\n",
    "        x_train = data[predictors].iloc[train, :]\n",
    "        x_val = data[predictors].iloc[val, :]\n",
    "        y_train = data[outcome].iloc[train, :]\n",
    "        y_val = data[outcome].iloc[val, :]\n",
    "        \n",
    "        x_train = (data[predictors].iloc[train,:])\n",
    "        y_train = (data[outcome].iloc[train,:])\n",
    "        x_val = (data[predictors].iloc[val,:])\n",
    "        y_val = (data[outcome].iloc[val,:])        \n",
    "        \n",
    "        model = model.fit(x_train, y_train)\n",
    "        scores.append(model.score(x_val, y_val))\n",
    "        \n",
    "    print 'Cross-validation scores %s' % '{0:.3}'.format(np.mean(scores))\n",
    "    return (np.abs(np.mean(scores)))"
   ]
  },
  {
   "cell_type": "code",
   "execution_count": 135,
   "metadata": {
    "collapsed": true
   },
   "outputs": [],
   "source": [
    "def choose_iter(elements, length):\n",
    "    for i in xrange(len(elements)):\n",
    "        if length == 1:\n",
    "            yield [elements[i],]\n",
    "        else:\n",
    "            for next in choose_iter(elements[i+1:len(elements)], length-1):\n",
    "                yield [elements[i],] + next"
   ]
  },
  {
   "cell_type": "code",
   "execution_count": 136,
   "metadata": {
    "collapsed": false,
    "scrolled": true
   },
   "outputs": [
    {
     "name": "stdout",
     "output_type": "stream",
     "text": [
      "['season']\n",
      "Cross-validation scores -0.388\n",
      "['workingday']\n",
      "Cross-validation scores -0.663\n",
      "['weather']\n",
      "Cross-validation scores -0.648\n",
      "['temp']\n",
      "Cross-validation scores -0.108\n",
      "['humidity']\n",
      "Cross-validation scores -0.893\n",
      "['windspeed']\n",
      "Cross-validation scores -0.712\n",
      "['hour']\n",
      "Cross-validation scores -0.346\n",
      "['season', 'workingday']\n",
      "Cross-validation scores -0.391\n",
      "['season', 'weather']\n",
      "Cross-validation scores -0.375\n",
      "['season', 'temp']\n",
      "Cross-validation scores -0.151\n",
      "['season', 'humidity']\n",
      "Cross-validation scores -0.386\n",
      "['season', 'windspeed']\n",
      "Cross-validation scores -0.42\n",
      "['season', 'hour']\n",
      "Cross-validation scores 0.066\n",
      "['workingday', 'weather']\n",
      "Cross-validation scores -0.65\n",
      "['workingday', 'temp']\n",
      "Cross-validation scores -0.129\n",
      "['workingday', 'humidity']\n",
      "Cross-validation scores -0.901\n",
      "['workingday', 'windspeed']\n",
      "Cross-validation scores -0.735\n",
      "['workingday', 'hour']\n",
      "Cross-validation scores -0.245\n",
      "['weather', 'temp']\n",
      "Cross-validation scores -0.127\n",
      "['weather', 'humidity']\n",
      "Cross-validation scores -0.95\n",
      "['weather', 'windspeed']\n",
      "Cross-validation scores -0.734\n",
      "['weather', 'hour']\n",
      "Cross-validation scores -0.336\n",
      "['temp', 'humidity']\n",
      "Cross-validation scores -0.34\n",
      "['temp', 'windspeed']\n",
      "Cross-validation scores -0.292\n",
      "['temp', 'hour']\n",
      "Cross-validation scores 0.197\n",
      "['humidity', 'windspeed']\n",
      "Cross-validation scores -1.27\n",
      "['humidity', 'hour']\n",
      "Cross-validation scores -0.515\n",
      "['windspeed', 'hour']\n",
      "Cross-validation scores -0.366\n",
      "['season', 'workingday', 'weather']\n",
      "Cross-validation scores -0.381\n",
      "['season', 'workingday', 'temp']\n",
      "Cross-validation scores -0.188\n",
      "['season', 'workingday', 'humidity']\n",
      "Cross-validation scores -0.509\n",
      "['season', 'workingday', 'windspeed']\n",
      "Cross-validation scores -0.448\n",
      "['season', 'workingday', 'hour']\n",
      "Cross-validation scores 0.18\n",
      "['season', 'weather', 'temp']\n",
      "Cross-validation scores -0.202\n",
      "['season', 'weather', 'humidity']\n",
      "Cross-validation scores -0.493\n",
      "['season', 'weather', 'windspeed']\n",
      "Cross-validation scores -0.431\n",
      "['season', 'weather', 'hour']\n",
      "Cross-validation scores 0.0829\n",
      "['season', 'temp', 'humidity']\n",
      "Cross-validation scores -0.573\n",
      "['season', 'temp', 'windspeed']\n",
      "Cross-validation scores -0.588\n",
      "['season', 'temp', 'hour']\n",
      "Cross-validation scores -0.0162\n",
      "['season', 'humidity', 'windspeed']\n",
      "Cross-validation scores -1.13\n",
      "['season', 'humidity', 'hour']\n",
      "Cross-validation scores -0.36\n",
      "['season', 'windspeed', 'hour']\n",
      "Cross-validation scores -0.119\n",
      "['workingday', 'weather', 'temp']\n",
      "Cross-validation scores -0.25\n",
      "['workingday', 'weather', 'humidity']\n",
      "Cross-validation scores -0.965\n",
      "['workingday', 'weather', 'windspeed']\n",
      "Cross-validation scores -0.753\n",
      "['workingday', 'weather', 'hour']\n",
      "Cross-validation scores -0.243\n",
      "['workingday', 'temp', 'humidity']\n",
      "Cross-validation scores -0.487\n",
      "['workingday', 'temp', 'windspeed']\n",
      "Cross-validation scores -0.397\n",
      "['workingday', 'temp', 'hour']\n",
      "Cross-validation scores 0.332\n",
      "['workingday', 'humidity', 'windspeed']\n",
      "Cross-validation scores -1.51\n",
      "['workingday', 'humidity', 'hour']\n",
      "Cross-validation scores -0.458\n",
      "['workingday', 'windspeed', 'hour']\n",
      "Cross-validation scores -0.267\n",
      "['weather', 'temp', 'humidity']\n",
      "Cross-validation scores -0.506\n",
      "['weather', 'temp', 'windspeed']\n",
      "Cross-validation scores -0.529\n",
      "['weather', 'temp', 'hour']\n",
      "Cross-validation scores 0.135\n",
      "['weather', 'humidity', 'windspeed']\n",
      "Cross-validation scores -1.49\n",
      "['weather', 'humidity', 'hour']\n",
      "Cross-validation scores -0.629\n",
      "['weather', 'windspeed', 'hour']\n",
      "Cross-validation scores -0.426\n",
      "['temp', 'humidity', 'windspeed']\n",
      "Cross-validation scores -1.12\n",
      "['temp', 'humidity', 'hour']\n",
      "Cross-validation scores -0.244\n",
      "['temp', 'windspeed', 'hour']\n",
      "Cross-validation scores -0.276\n",
      "['humidity', 'windspeed', 'hour']\n",
      "Cross-validation scores -1.14\n",
      "['season', 'workingday', 'weather', 'temp']\n",
      "Cross-validation scores -0.296\n",
      "['season', 'workingday', 'weather', 'humidity']\n",
      "Cross-validation scores -0.645\n",
      "['season', 'workingday', 'weather', 'windspeed']\n",
      "Cross-validation scores -0.491\n",
      "['season', 'workingday', 'weather', 'hour']\n",
      "Cross-validation scores 0.172\n",
      "['season', 'workingday', 'temp', 'humidity']\n",
      "Cross-validation scores -0.796\n",
      "['season', 'workingday', 'temp', 'windspeed']\n",
      "Cross-validation scores -0.809\n",
      "['season', 'workingday', 'temp', 'hour']\n",
      "Cross-validation scores 0.169\n",
      "['season', 'workingday', 'humidity', 'windspeed']\n",
      "Cross-validation scores -1.37\n",
      "['season', 'workingday', 'humidity', 'hour']\n",
      "Cross-validation scores -0.113\n",
      "['season', 'workingday', 'windspeed', 'hour']\n",
      "Cross-validation scores -0.0258\n",
      "['season', 'weather', 'temp', 'humidity']\n",
      "Cross-validation scores -0.736\n",
      "['season', 'weather', 'temp', 'windspeed']\n",
      "Cross-validation scores -0.789\n",
      "['season', 'weather', 'temp', 'hour']\n",
      "Cross-validation scores -0.0785\n",
      "['season', 'weather', 'humidity', 'windspeed']\n",
      "Cross-validation scores -1.41\n",
      "['season', 'weather', 'humidity', 'hour']\n",
      "Cross-validation scores -0.354\n",
      "['season', 'weather', 'windspeed', 'hour']\n",
      "Cross-validation scores -0.2\n",
      "['season', 'temp', 'humidity', 'windspeed']\n",
      "Cross-validation scores -1.32\n",
      "['season', 'temp', 'humidity', 'hour']\n",
      "Cross-validation scores -0.252\n",
      "['season', 'temp', 'windspeed', 'hour']\n",
      "Cross-validation scores -0.342\n",
      "['season', 'humidity', 'windspeed', 'hour']\n",
      "Cross-validation scores -0.654\n",
      "['workingday', 'weather', 'temp', 'humidity']\n",
      "Cross-validation scores -0.735\n",
      "['workingday', 'weather', 'temp', 'windspeed']\n",
      "Cross-validation scores -0.647\n",
      "['workingday', 'weather', 'temp', 'hour']\n",
      "Cross-validation scores 0.268\n",
      "['workingday', 'weather', 'humidity', 'windspeed']\n",
      "Cross-validation scores -1.81\n",
      "['workingday', 'weather', 'humidity', 'hour']\n",
      "Cross-validation scores -0.554\n",
      "['workingday', 'weather', 'windspeed', 'hour']\n",
      "Cross-validation scores -0.311\n",
      "['workingday', 'temp', 'humidity', 'windspeed']\n",
      "Cross-validation scores -1.19\n",
      "['workingday', 'temp', 'humidity', 'hour']\n",
      "Cross-validation scores 0.104\n",
      "['workingday', 'temp', 'windspeed', 'hour']\n",
      "Cross-validation scores 0.062\n",
      "['workingday', 'humidity', 'windspeed', 'hour']\n",
      "Cross-validation scores -0.853\n",
      "['weather', 'temp', 'humidity', 'windspeed']\n",
      "Cross-validation scores -1.31\n",
      "['weather', 'temp', 'humidity', 'hour']\n",
      "Cross-validation scores -0.269\n",
      "['weather', 'temp', 'windspeed', 'hour']\n",
      "Cross-validation scores -0.261\n",
      "['weather', 'humidity', 'windspeed', 'hour']\n",
      "Cross-validation scores -1.15\n",
      "['temp', 'humidity', 'windspeed', 'hour']\n",
      "Cross-validation scores -0.422\n",
      "['season', 'workingday', 'weather', 'temp', 'humidity']\n",
      "Cross-validation scores -0.898\n",
      "['season', 'workingday', 'weather', 'temp', 'windspeed']\n",
      "Cross-validation scores -0.928\n",
      "['season', 'workingday', 'weather', 'temp', 'hour']\n",
      "Cross-validation scores 0.171\n",
      "['season', 'workingday', 'weather', 'humidity', 'windspeed']\n",
      "Cross-validation scores -1.58\n",
      "['season', 'workingday', 'weather', 'humidity', 'hour']\n",
      "Cross-validation scores -0.103\n",
      "['season', 'workingday', 'weather', 'windspeed', 'hour']\n",
      "Cross-validation scores -0.0555\n",
      "['season', 'workingday', 'temp', 'humidity', 'windspeed']\n",
      "Cross-validation scores -1.56\n",
      "['season', 'workingday', 'temp', 'humidity', 'hour']\n",
      "Cross-validation scores 0.115\n",
      "['season', 'workingday', 'temp', 'windspeed', 'hour']\n",
      "Cross-validation scores 0.0635\n",
      "['season', 'workingday', 'humidity', 'windspeed', 'hour']\n",
      "Cross-validation scores -0.176\n",
      "['season', 'weather', 'temp', 'humidity', 'windspeed']\n",
      "Cross-validation scores -1.42\n",
      "['season', 'weather', 'temp', 'humidity', 'hour']\n",
      "Cross-validation scores -0.233\n",
      "['season', 'weather', 'temp', 'windspeed', 'hour']\n",
      "Cross-validation scores -0.212\n",
      "['season', 'weather', 'humidity', 'windspeed', 'hour']\n",
      "Cross-validation scores -0.575\n",
      "['season', 'temp', 'humidity', 'windspeed', 'hour']\n",
      "Cross-validation scores -0.306\n",
      "['workingday', 'weather', 'temp', 'humidity', 'windspeed']\n",
      "Cross-validation scores -1.42\n",
      "['workingday', 'weather', 'temp', 'humidity', 'hour']\n",
      "Cross-validation scores 0.0949\n",
      "['workingday', 'weather', 'temp', 'windspeed', 'hour']\n",
      "Cross-validation scores 0.0798\n",
      "['workingday', 'weather', 'humidity', 'windspeed', 'hour']\n",
      "Cross-validation scores -0.781\n",
      "['workingday', 'temp', 'humidity', 'windspeed', 'hour']\n",
      "Cross-validation scores 0.0713\n",
      "['weather', 'temp', 'humidity', 'windspeed', 'hour']\n",
      "Cross-validation scores -0.397\n",
      "['season', 'workingday', 'weather', 'temp', 'humidity', 'windspeed']\n",
      "Cross-validation scores -1.59\n",
      "['season', 'workingday', 'weather', 'temp', 'humidity', 'hour']\n",
      "Cross-validation scores 0.145\n",
      "['season', 'workingday', 'weather', 'temp', 'windspeed', 'hour']\n",
      "Cross-validation scores 0.124\n",
      "['season', 'workingday', 'weather', 'humidity', 'windspeed', 'hour']\n",
      "Cross-validation scores -0.12\n",
      "['season', 'workingday', 'temp', 'humidity', 'windspeed', 'hour']\n",
      "Cross-validation scores 0.139\n",
      "['season', 'weather', 'temp', 'humidity', 'windspeed', 'hour']\n",
      "Cross-validation scores -0.214\n",
      "['workingday', 'weather', 'temp', 'humidity', 'windspeed', 'hour']\n",
      "Cross-validation scores 0.108\n"
     ]
    }
   ],
   "source": [
    "predictors = comb_final.columns\n",
    "outcome = ['count']\n",
    "\n",
    "best_scores = {}\n",
    "\n",
    "for i in range(len(predictors)):\n",
    "    for pred in list(choose_iter(predictors,i)):\n",
    "        # Base classification using Random Forest\n",
    "        model = DecisionTreeRegressor()\n",
    "        print (pred)\n",
    "        best_scores[''.join(pred)] = apply_model(model, train_final, pred, outcome)"
   ]
  },
  {
   "cell_type": "code",
   "execution_count": 137,
   "metadata": {
    "collapsed": false
   },
   "outputs": [],
   "source": [
    "from operator import itemgetter\n",
    "\n",
    "best_score_list = sorted(best_scores.items(), key=itemgetter(1))"
   ]
  },
  {
   "cell_type": "code",
   "execution_count": 138,
   "metadata": {
    "collapsed": false
   },
   "outputs": [
    {
     "data": {
      "text/plain": [
       "[('seasontemphour', 0.016218038411317505),\n",
       " ('seasonworkingdaywindspeedhour', 0.0258446697869965),\n",
       " ('seasonworkingdayweatherwindspeedhour', 0.055487427096915565),\n",
       " ('workingdaytempwindspeedhour', 0.061971837776125173),\n",
       " ('seasonworkingdaytempwindspeedhour', 0.063451395526732096),\n",
       " ('seasonhour', 0.065998887558749525),\n",
       " ('workingdaytemphumiditywindspeedhour', 0.071275386935317112),\n",
       " ('seasonweathertemphour', 0.078510566358757541),\n",
       " ('workingdayweathertempwindspeedhour', 0.079833027751144675),\n",
       " ('seasonweatherhour', 0.082937671259970661),\n",
       " ('workingdayweathertemphumidityhour', 0.094925386423733202),\n",
       " ('seasonworkingdayweatherhumidityhour', 0.10333514590587141),\n",
       " ('workingdaytemphumidityhour', 0.10443016324677132),\n",
       " ('temp', 0.10780197924055879),\n",
       " ('workingdayweathertemphumiditywindspeedhour', 0.108043643887763),\n",
       " ('seasonworkingdayhumidityhour', 0.11260486177905096),\n",
       " ('seasonworkingdaytemphumidityhour', 0.11471146291530476),\n",
       " ('seasonwindspeedhour', 0.11912774921835378),\n",
       " ('seasonworkingdayweatherhumiditywindspeedhour', 0.12039339571689853),\n",
       " ('seasonworkingdayweathertempwindspeedhour', 0.1241211625394382),\n",
       " ('weathertemp', 0.12715514540101339),\n",
       " ('workingdaytemp', 0.12944162181728408),\n",
       " ('weathertemphour', 0.13491661481634851),\n",
       " ('seasonworkingdaytemphumiditywindspeedhour', 0.13868222147916623),\n",
       " ('seasonworkingdayweathertemphumidityhour', 0.14470903723934736),\n",
       " ('seasontemp', 0.15074378295365096),\n",
       " ('seasonworkingdaytemphour', 0.168756046375061),\n",
       " ('seasonworkingdayweathertemphour', 0.17145095020075285),\n",
       " ('seasonworkingdayweatherhour', 0.17153452784403334),\n",
       " ('seasonworkingdayhumiditywindspeedhour', 0.17626106669082287),\n",
       " ('seasonworkingdayhour', 0.18036612770625121),\n",
       " ('seasonworkingdaytemp', 0.18801621696525725),\n",
       " ('temphour', 0.19744449705952888),\n",
       " ('seasonweatherwindspeedhour', 0.19964537845010533),\n",
       " ('seasonweathertemp', 0.20179584153126551),\n",
       " ('seasonweathertempwindspeedhour', 0.21235106303990911),\n",
       " ('seasonweathertemphumiditywindspeedhour', 0.21370722592825286),\n",
       " ('seasonweathertemphumidityhour', 0.2329314903362257),\n",
       " ('workingdayweatherhour', 0.24316289283980383),\n",
       " ('temphumidityhour', 0.24397143460563803),\n",
       " ('workingdayhour', 0.24471110932235862),\n",
       " ('workingdayweathertemp', 0.24986662002952897),\n",
       " ('seasontemphumidityhour', 0.25246974334138539),\n",
       " ('weathertempwindspeedhour', 0.26116626184137637),\n",
       " ('workingdaywindspeedhour', 0.26742141505776579),\n",
       " ('workingdayweathertemphour', 0.26834850480135086),\n",
       " ('weathertemphumidityhour', 0.26920869054385188),\n",
       " ('tempwindspeedhour', 0.2757138769752176),\n",
       " ('tempwindspeed', 0.29205548730122449),\n",
       " ('seasonworkingdayweathertemp', 0.29595081514823163),\n",
       " ('seasontemphumiditywindspeedhour', 0.30648233059276347),\n",
       " ('workingdayweatherwindspeedhour', 0.31103446438251675),\n",
       " ('workingdaytemphour', 0.33232258657500158),\n",
       " ('weatherhour', 0.33648877265436328),\n",
       " ('temphumidity', 0.34030125862227961),\n",
       " ('seasontempwindspeedhour', 0.34220079180518281),\n",
       " ('hour', 0.34568795502953059),\n",
       " ('seasonweatherhumidityhour', 0.35389250660235461),\n",
       " ('seasonhumidityhour', 0.35986251669432673),\n",
       " ('windspeedhour', 0.36623372667855281),\n",
       " ('seasonweather', 0.37461697937886851),\n",
       " ('seasonworkingdayweather', 0.38109780552854061),\n",
       " ('seasonhumidity', 0.38563123175173808),\n",
       " ('season', 0.38753306360435691),\n",
       " ('seasonworkingday', 0.39080392837426026),\n",
       " ('weathertemphumiditywindspeedhour', 0.39678917592609225),\n",
       " ('workingdaytempwindspeed', 0.39729367565277107),\n",
       " ('seasonwindspeed', 0.42021512372985742),\n",
       " ('temphumiditywindspeedhour', 0.42244014898285681),\n",
       " ('weatherwindspeedhour', 0.42604070324679999),\n",
       " ('seasonweatherwindspeed', 0.43110665436414275),\n",
       " ('seasonworkingdaywindspeed', 0.44848809041673776),\n",
       " ('workingdayhumidityhour', 0.45761776650939279),\n",
       " ('workingdaytemphumidity', 0.48652950313854931),\n",
       " ('seasonworkingdayweatherwindspeed', 0.491131741267258),\n",
       " ('seasonweatherhumidity', 0.49272961146520444),\n",
       " ('weathertemphumidity', 0.50589792352429608),\n",
       " ('seasonworkingdayhumidity', 0.50901085967754844),\n",
       " ('humidityhour', 0.5149755195016914),\n",
       " ('weathertempwindspeed', 0.52869127695347173),\n",
       " ('workingdayweatherhumidityhour', 0.55413650468100373),\n",
       " ('seasontemphumidity', 0.57275786896106573),\n",
       " ('seasonweatherhumiditywindspeedhour', 0.57457851806996763),\n",
       " ('seasontempwindspeed', 0.58820204132966269),\n",
       " ('weatherhumidityhour', 0.62928872276235892),\n",
       " ('seasonworkingdayweatherhumidity', 0.64495744024697632),\n",
       " ('workingdayweathertempwindspeed', 0.64722402490634534),\n",
       " ('weather', 0.64757620060784227),\n",
       " ('workingdayweather', 0.65021410955051229),\n",
       " ('seasonhumiditywindspeedhour', 0.65361027814045758),\n",
       " ('workingday', 0.66290489345518833),\n",
       " ('windspeed', 0.71216394954243856),\n",
       " ('weatherwindspeed', 0.73404800693743399),\n",
       " ('workingdayweathertemphumidity', 0.73487058455540777),\n",
       " ('workingdaywindspeed', 0.7350906248354605),\n",
       " ('seasonweathertemphumidity', 0.7363141396283357),\n",
       " ('workingdayweatherwindspeed', 0.75300368802668005),\n",
       " ('workingdayweatherhumiditywindspeedhour', 0.78073727914327851),\n",
       " ('seasonweathertempwindspeed', 0.7889986489030486),\n",
       " ('seasonworkingdaytemphumidity', 0.79628980001123917),\n",
       " ('seasonworkingdaytempwindspeed', 0.80858223535889573),\n",
       " ('workingdayhumiditywindspeedhour', 0.85298320255697568),\n",
       " ('humidity', 0.89306739800283896),\n",
       " ('seasonworkingdayweathertemphumidity', 0.89768329535455815),\n",
       " ('workingdayhumidity', 0.90076809881036424),\n",
       " ('seasonworkingdayweathertempwindspeed', 0.92825152273092237),\n",
       " ('weatherhumidity', 0.94966093034001164),\n",
       " ('workingdayweatherhumidity', 0.96486248313445766),\n",
       " ('temphumiditywindspeed', 1.1159053386253419),\n",
       " ('seasonhumiditywindspeed', 1.1342326437201113),\n",
       " ('humiditywindspeedhour', 1.1353762200010782),\n",
       " ('weatherhumiditywindspeedhour', 1.1495448033131221),\n",
       " ('workingdaytemphumiditywindspeed', 1.1863085816016814),\n",
       " ('humiditywindspeed', 1.2740780579548163),\n",
       " ('weathertemphumiditywindspeed', 1.3107892120849634),\n",
       " ('seasontemphumiditywindspeed', 1.3160995596839475),\n",
       " ('seasonworkingdayhumiditywindspeed', 1.372697852958018),\n",
       " ('seasonweatherhumiditywindspeed', 1.4058824960776493),\n",
       " ('workingdayweathertemphumiditywindspeed', 1.4160972722271969),\n",
       " ('seasonweathertemphumiditywindspeed', 1.4243652006824521),\n",
       " ('weatherhumiditywindspeed', 1.488713177258429),\n",
       " ('workingdayhumiditywindspeed', 1.514814572234346),\n",
       " ('seasonworkingdaytemphumiditywindspeed', 1.5603422565304563),\n",
       " ('seasonworkingdayweatherhumiditywindspeed', 1.5772802211042252),\n",
       " ('seasonworkingdayweathertemphumiditywindspeed', 1.5948701410053852),\n",
       " ('workingdayweatherhumiditywindspeed', 1.8066405610510565)]"
      ]
     },
     "execution_count": 138,
     "metadata": {},
     "output_type": "execute_result"
    }
   ],
   "source": [
    "best_score_list"
   ]
  },
  {
   "cell_type": "code",
   "execution_count": 139,
   "metadata": {
    "collapsed": true
   },
   "outputs": [],
   "source": [
    "best_predictors = ['season', 'workingday', 'weather', 'windspeed', 'hour']\n",
    "x_train_best = comb_final[best_predictors].iloc[:train.shape[0], :]\n",
    "x_test_best = comb_final[best_predictors].iloc[train.shape[0]:, :]"
   ]
  },
  {
   "cell_type": "code",
   "execution_count": null,
   "metadata": {
    "collapsed": false
   },
   "outputs": [],
   "source": []
  },
  {
   "cell_type": "code",
   "execution_count": 140,
   "metadata": {
    "collapsed": true
   },
   "outputs": [],
   "source": [
    "import warnings\n",
    "warnings.filterwarnings('ignore')\n",
    "\n",
    "from sklearn.ensemble import AdaBoostRegressor\n",
    "from sklearn.ensemble import RandomForestRegressor\n",
    "from sklearn.ensemble import GradientBoostingRegressor\n",
    "from sklearn.neighbors import KNeighborsRegressor\n",
    "from sklearn.svm import SVR\n",
    " \n",
    "names = [\"AdaBoost\", \n",
    "         \"RandomForestRegressor\", \n",
    "         \"GradientBoostingRegressor\",\n",
    "         \"KNeighborsRegressor\",\n",
    "         \"SVR\"\n",
    "        ]\n",
    " \n",
    "regs = [\n",
    "    AdaBoostRegressor(),\n",
    "    RandomForestRegressor(),\n",
    "    GradientBoostingRegressor(),\n",
    "    KNeighborsRegressor(),\n",
    "    SVR()\n",
    "]"
   ]
  },
  {
   "cell_type": "code",
   "execution_count": 141,
   "metadata": {
    "collapsed": false
   },
   "outputs": [
    {
     "name": "stdout",
     "output_type": "stream",
     "text": [
      "Cross-validation scores -0.608\n",
      "Cross-validation scores 0.0643\n",
      "Cross-validation scores 0.195\n",
      "Cross-validation scores 0.0274\n",
      "Cross-validation scores 0.0385\n",
      "[('KNeighborsRegressor', 0.027434668990763567), ('SVR', 0.038458494220241335), ('RandomForestRegressor', 0.064300199264451643), ('GradientBoostingRegressor', 0.19504631647263862), ('AdaBoost', 0.60778896104788716)]\n"
     ]
    }
   ],
   "source": [
    "best_models = {}\n",
    "\n",
    "for name, reg in zip(names, regs):\n",
    "    best_models[name] = apply_model(reg, train_final, best_predictors, outcome)\n",
    "\n",
    "print sorted(best_models.items(), key=itemgetter(1))"
   ]
  },
  {
   "cell_type": "code",
   "execution_count": 142,
   "metadata": {
    "collapsed": false
   },
   "outputs": [],
   "source": [
    "from sklearn.grid_search import GridSearchCV\n",
    "\n",
    "def apply_grid_search(model, params):\n",
    "    grid_search = GridSearchCV(model, param_grid=params)\n",
    "    grid_search.fit(x_train_best, y_train)\n",
    "    return grid_search.best_estimator_"
   ]
  },
  {
   "cell_type": "code",
   "execution_count": 143,
   "metadata": {
    "collapsed": false
   },
   "outputs": [],
   "source": [
    "model_RF = RandomForestRegressor()\n",
    "parameter_grid_RF = {'n_estimators': [10, 30, 50, 100, 150, 200],\n",
    "                     \"max_depth\": [3, None],\n",
    "                     \"max_features\": ['auto', 'sqrt',  'log2']\n",
    "                    }\n",
    "best_RF = apply_grid_search(model_RF, parameter_grid_RF)"
   ]
  },
  {
   "cell_type": "code",
   "execution_count": 144,
   "metadata": {
    "collapsed": true
   },
   "outputs": [],
   "source": [
    "model_ADA = AdaBoostRegressor()\n",
    "parameter_grid_ADA = {'n_estimators': [10, 50, 100, 150, 200],\n",
    "                     \"learning_rate\": [1, 2],\n",
    "                     \"loss\": ['linear', 'square', 'exponential']\n",
    "                    }\n",
    "best_ADA = apply_grid_search(model_ADA, parameter_grid_ADA)"
   ]
  },
  {
   "cell_type": "code",
   "execution_count": 145,
   "metadata": {
    "collapsed": false
   },
   "outputs": [],
   "source": [
    "def print_result(model, name):\n",
    "    print model\n",
    "    model = model.fit(x_train_best, y_train)\n",
    "    y_test = np.ceil(np.abs(model.predict(x_test_best)))\n",
    "    result = test[['datetime']]\n",
    "    result.loc[:,'count'] = y_test\n",
    "    result.to_csv(''.join([name, '.csv']), index=False)"
   ]
  },
  {
   "cell_type": "code",
   "execution_count": 150,
   "metadata": {
    "collapsed": false
   },
   "outputs": [
    {
     "name": "stdout",
     "output_type": "stream",
     "text": [
      "SVR(C=1.0, cache_size=200, coef0=0.0, degree=3, epsilon=0.1, gamma='auto',\n",
      "  kernel='rbf', max_iter=-1, shrinking=True, tol=0.001, verbose=False)\n"
     ]
    }
   ],
   "source": [
    "print_result(SVR(), 'SVR default')"
   ]
  },
  {
   "cell_type": "code",
   "execution_count": 146,
   "metadata": {
    "collapsed": false
   },
   "outputs": [
    {
     "name": "stdout",
     "output_type": "stream",
     "text": [
      "RandomForestRegressor(bootstrap=True, criterion='mse', max_depth=None,\n",
      "           max_features='log2', max_leaf_nodes=None, min_samples_leaf=1,\n",
      "           min_samples_split=2, min_weight_fraction_leaf=0.0,\n",
      "           n_estimators=50, n_jobs=1, oob_score=False, random_state=None,\n",
      "           verbose=0, warm_start=False)\n"
     ]
    }
   ],
   "source": [
    "print_result(best_RF, 'Random Forest with turning parameters')"
   ]
  },
  {
   "cell_type": "code",
   "execution_count": 147,
   "metadata": {
    "collapsed": false
   },
   "outputs": [
    {
     "name": "stdout",
     "output_type": "stream",
     "text": [
      "AdaBoostRegressor(base_estimator=None, learning_rate=2, loss='linear',\n",
      "         n_estimators=10, random_state=None)\n"
     ]
    }
   ],
   "source": [
    "print_result(best_ADA, 'Adaboost with turning parameters')"
   ]
  },
  {
   "cell_type": "code",
   "execution_count": 148,
   "metadata": {
    "collapsed": false
   },
   "outputs": [
    {
     "name": "stdout",
     "output_type": "stream",
     "text": [
      "Feature ranking:\n",
      "1. feature hour (0.725664)\n",
      "2. feature season (0.093556)\n",
      "3. feature windspeed (0.092615)\n",
      "4. feature workingday (0.053394)\n",
      "5. feature weather (0.034772)\n"
     ]
    }
   ],
   "source": [
    "importances = best_RF.feature_importances_\n",
    "\n",
    "indices = np.argsort(importances)[::-1]\n",
    "\n",
    "# Print the feature ranking\n",
    "print(\"Feature ranking:\")\n",
    "\n",
    "for i in range(len(best_predictors)):\n",
    "    print(\"%d. feature %s (%f)\" % (i + 1, best_predictors[indices[i]], importances[indices[i]]))"
   ]
  },
  {
   "cell_type": "code",
   "execution_count": 149,
   "metadata": {
    "collapsed": false
   },
   "outputs": [
    {
     "data": {
      "text/plain": [
       "'season'"
      ]
     },
     "execution_count": 149,
     "metadata": {},
     "output_type": "execute_result"
    }
   ],
   "source": [
    "best_predictors[0]"
   ]
  },
  {
   "cell_type": "code",
   "execution_count": null,
   "metadata": {
    "collapsed": false
   },
   "outputs": [],
   "source": []
  },
  {
   "cell_type": "code",
   "execution_count": null,
   "metadata": {
    "collapsed": false
   },
   "outputs": [],
   "source": []
  },
  {
   "cell_type": "code",
   "execution_count": null,
   "metadata": {
    "collapsed": true
   },
   "outputs": [],
   "source": []
  },
  {
   "cell_type": "code",
   "execution_count": null,
   "metadata": {
    "collapsed": false
   },
   "outputs": [],
   "source": []
  },
  {
   "cell_type": "code",
   "execution_count": null,
   "metadata": {
    "collapsed": true
   },
   "outputs": [],
   "source": []
  }
 ],
 "metadata": {
  "anaconda-cloud": {},
  "kernelspec": {
   "display_name": "Python [Root]",
   "language": "python",
   "name": "Python [Root]"
  },
  "language_info": {
   "codemirror_mode": {
    "name": "ipython",
    "version": 2
   },
   "file_extension": ".py",
   "mimetype": "text/x-python",
   "name": "python",
   "nbconvert_exporter": "python",
   "pygments_lexer": "ipython2",
   "version": "2.7.12"
  }
 },
 "nbformat": 4,
 "nbformat_minor": 0
}
